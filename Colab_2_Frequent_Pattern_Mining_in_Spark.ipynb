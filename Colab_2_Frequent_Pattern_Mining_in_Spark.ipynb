{
 "nbformat": 4,
 "nbformat_minor": 0,
 "metadata": {
  "colab": {
   "provenance": []
  },
  "kernelspec": {
   "name": "python3",
   "language": "python",
   "display_name": "Python 3 (ipykernel)"
  }
 },
 "cells": [
  {
   "cell_type": "markdown",
   "metadata": {
    "id": "kPt5q27L5557"
   },
   "source": [
    "# Frequent Pattern Mining in Spark\n"
   ]
  },
  {
   "cell_type": "code",
   "metadata": {
    "id": "twk-K-jilWK7",
    "ExecuteTime": {
     "end_time": "2023-09-30T03:21:58.402190300Z",
     "start_time": "2023-09-30T03:21:57.539688900Z"
    }
   },
   "source": [
    "import pandas as pd\n",
    "import numpy as np\n",
    "import matplotlib.pyplot as plt\n",
    "%matplotlib inline\n",
    "\n",
    "import pyspark\n",
    "from pyspark.sql import *\n",
    "from pyspark.sql.functions import *\n",
    "from pyspark import SparkContext, SparkConf\n",
    "from pyspark.ml.fpm import FPGrowth"
   ],
   "execution_count": 2,
   "outputs": []
  },
  {
   "cell_type": "markdown",
   "metadata": {
    "id": "dr-8fK-1lmY0"
   },
   "source": [
    "Let's initialize the Spark context."
   ]
  },
  {
   "cell_type": "code",
   "metadata": {
    "id": "UOwtm2l7lePt",
    "ExecuteTime": {
     "end_time": "2023-09-30T03:22:15.149616500Z",
     "start_time": "2023-09-30T03:22:12.381375900Z"
    }
   },
   "source": [
    "# create the session\n",
    "conf = SparkConf().set(\"spark.ui.port\", \"4050\")\n",
    "\n",
    "# create the context\n",
    "sc = pyspark.SparkContext(conf=conf)\n",
    "spark = SparkSession.builder.getOrCreate()"
   ],
   "execution_count": 3,
   "outputs": []
  },
  {
   "cell_type": "markdown",
   "metadata": {
    "id": "CRaF2A_j_nC7"
   },
   "source": [
    "### Your task"
   ]
  },
  {
   "cell_type": "markdown",
   "metadata": {
    "id": "ebLNUxP0_8x3"
   },
   "source": [
    "If you run successfully the setup stage, you are ready to work with the **3 Million Instacart Orders** dataset. In case you want to read more about it, check the [official Instacart blog post](https://tech.instacart.com/3-million-instacart-orders-open-sourced-d40d29ead6f2) about it, a concise [schema description](https://gist.github.com/jeremystan/c3b39d947d9b88b3ccff3147dbcf6c6b) of the dataset, and the [download page](https://www.instacart.com/datasets/grocery-shopping-2017).\n",
    "\n",
    "In this Colab, we will be working only with a small training dataset (~131K orders) to perform fast Frequent Pattern Mining with the FP-Growth algorithm."
   ]
  },
  {
   "cell_type": "code",
   "metadata": {
    "id": "xu-e7Ph2_ruG",
    "ExecuteTime": {
     "end_time": "2023-09-30T03:22:23.336264600Z",
     "start_time": "2023-09-30T03:22:19.102183100Z"
    }
   },
   "source": [
    "products = spark.read.csv('files/products.csv', header=True, inferSchema=True)\n",
    "orders = spark.read.csv('files/order_products__train.csv', header=True, inferSchema=True)"
   ],
   "execution_count": 4,
   "outputs": []
  },
  {
   "cell_type": "code",
   "metadata": {
    "id": "hhxZZRT9syUO",
    "colab": {
     "base_uri": "https://localhost:8080/"
    },
    "outputId": "900c6c55-2741-4d29-d757-167ea61aef2d",
    "ExecuteTime": {
     "end_time": "2023-09-30T03:45:21.684768800Z",
     "start_time": "2023-09-30T03:45:21.675322400Z"
    }
   },
   "source": [
    "products.printSchema()"
   ],
   "execution_count": 38,
   "outputs": [
    {
     "name": "stdout",
     "output_type": "stream",
     "text": [
      "root\n",
      " |-- product_id2: integer (nullable = true)\n",
      " |-- product_name: string (nullable = true)\n",
      " |-- aisle_id: string (nullable = true)\n",
      " |-- department_id: string (nullable = true)\n",
      "\n",
      "root\n",
      " |-- product_id: integer (nullable = true)\n",
      " |-- product_name: string (nullable = true)\n",
      " |-- aisle_id: string (nullable = true)\n",
      " |-- department_id: string (nullable = true)\n"
     ]
    }
   ]
  },
  {
   "cell_type": "code",
   "metadata": {
    "id": "8VeRYRz2s1pm",
    "colab": {
     "base_uri": "https://localhost:8080/"
    },
    "outputId": "9e8d11e2-90ac-4261-aeee-3186c0824e56",
    "ExecuteTime": {
     "end_time": "2023-09-30T03:46:49.091828700Z",
     "start_time": "2023-09-30T03:46:49.085451200Z"
    }
   },
   "source": [
    "\n",
    "#rename product_id to product_id2\n",
    "orders =  orders.withColumnRenamed(\"product_id\", \"product_id2\")\n",
    "orders.printSchema()"
   ],
   "execution_count": 41,
   "outputs": [
    {
     "name": "stdout",
     "output_type": "stream",
     "text": [
      "root\n",
      " |-- order_id: integer (nullable = true)\n",
      " |-- product_id2: integer (nullable = true)\n",
      " |-- add_to_cart_order: integer (nullable = true)\n",
      " |-- reordered: integer (nullable = true)\n"
     ]
    }
   ]
  },
  {
   "cell_type": "markdown",
   "metadata": {
    "id": "h5muD_Io59CG"
   },
   "source": [
    "Use the Spark Dataframe API to join 'products' and 'orders', so that you will be able to see the product names in each transaction (and not only their ids).  Then, group by the orders by 'order_id' to obtain one row per basket (i.e., set of products purchased together by one customer)."
   ]
  },
  {
   "cell_type": "code",
   "metadata": {
    "id": "zRH4o4p7s7V6",
    "colab": {
     "base_uri": "https://localhost:8080/"
    },
    "outputId": "b6547fb9-f5ca-4899-c024-3ae89b65d805",
    "ExecuteTime": {
     "end_time": "2023-09-30T03:54:31.353234300Z",
     "start_time": "2023-09-30T03:54:29.658503100Z"
    }
   },
   "source": [
    "''' 2 lines of code expected '''\n",
    "# YOUR CODE HERE\n",
    "join = orders.join(products, orders.product_id2 == products.product_id)\n",
    "df = join.groupBy(\"order_id\").agg(collect_list(\"product_id2\").alias(\"products\"))\n",
    "df.show()\n",
    "df.printSchema()"
   ],
   "execution_count": 52,
   "outputs": [
    {
     "name": "stdout",
     "output_type": "stream",
     "text": [
      "+--------+--------------------+\n",
      "|order_id|            products|\n",
      "+--------+--------------------+\n",
      "|     762|[21137, 41220, 15...|\n",
      "|     844|[14992, 21405, 11...|\n",
      "|     988|[45061, 28464, 12...|\n",
      "|    1139|[24852, 21137, 34...|\n",
      "|    1143|[42719, 42097, 36...|\n",
      "|    1280|[48186, 49235, 23...|\n",
      "|    1342|[13176, 30827, 14...|\n",
      "|    1350|[12260, 25042, 38...|\n",
      "|    1468|[24852, 46667, 30...|\n",
      "|    1591|[17203, 44008, 48...|\n",
      "|    1721|[38689, 27845, 22...|\n",
      "|    1890|[432, 47626, 1317...|\n",
      "|    1955|[10132, 13176, 16...|\n",
      "|    2711|[9387, 17122, 273...|\n",
      "|    2888|[30450, 41486, 46...|\n",
      "|    3010|[2966, 47209, 131...|\n",
      "|    3037|[19348, 19173, 6994]|\n",
      "|    3179|[35221, 39322, 36...|\n",
      "|    4036|[11758, 46979, 48...|\n",
      "|    4092|[26209, 6615, 445...|\n",
      "+--------+--------------------+\n",
      "only showing top 20 rows\n",
      "\n",
      "root\n",
      " |-- order_id: integer (nullable = true)\n",
      " |-- products: array (nullable = false)\n",
      " |    |-- element: integer (containsNull = false)\n",
      "+--------+----------------------------+\n",
      "|order_id|products                    |\n",
      "+--------+----------------------------+\n",
      "|762     |[21137, 41220, 15872, 30391]|\n",
      "+--------+----------------------------+\n"
     ]
    }
   ]
  },
  {
   "cell_type": "markdown",
   "metadata": {
    "id": "EfHoTLAg6qnM"
   },
   "source": [
    "In this Colab we will explore [MLlib](https://spark.apache.org/mllib/), Apache Spark's scalable machine learning library. Specifically, you can use its implementation of the [FP-Growth](https://spark.apache.org/docs/latest/ml-frequent-pattern-mining.html#fp-growth) algorithm to perform efficiently Frequent Pattern Mining in Spark.\n",
    "Use the Python example in the documentation, and train a model with\n",
    "\n",
    "```minSupport=0.01``` and ```minConfidence=0.5```"
   ]
  },
  {
   "cell_type": "code",
   "metadata": {
    "id": "boWgxXNns089",
    "colab": {
     "base_uri": "https://localhost:8080/",
     "height": 357
    },
    "outputId": "a0caa95a-9941-4ead-82b4-9111334992c3",
    "ExecuteTime": {
     "end_time": "2023-09-30T03:50:55.916678800Z",
     "start_time": "2023-09-30T03:50:53.203664Z"
    }
   },
   "source": [
    "''' 3 lines of code expected '''\n",
    "# YOUR CODE HERE\n",
    "fpGrowth = FPGrowth(itemsCol=\"products\", minSupport=0.01, minConfidence=0.5)\n",
    "model = fpGrowth.fit(df)"
   ],
   "execution_count": 49,
   "outputs": []
  },
  {
   "cell_type": "markdown",
   "metadata": {
    "id": "6kpTVdfD8UiO"
   },
   "source": [
    "Compute how many frequent itemsets and association rules were generated by running FP-growth alongside\n",
    "visualizing top frequent itemsets and association rules.\n"
   ]
  },
  {
   "cell_type": "code",
   "metadata": {
    "id": "6KYgQ_URunvA",
    "ExecuteTime": {
     "end_time": "2023-09-30T03:55:36.029979100Z",
     "start_time": "2023-09-30T03:55:34.350448100Z"
    }
   },
   "source": [
    "''' 5 lines of code in total expected but can differ based on your style. for sub-parts of the question, creating different cells of code would be recommended.'''\n",
    "# YOUR CODE HERE\n",
    "#Order by freq descending\n",
    "model.freqItemsets.orderBy(\"freq\", ascending=False).show()\n",
    "print(\"Number of frequent itemsets: \" + str(model.freqItemsets.count()))"
   ],
   "execution_count": 55,
   "outputs": [
    {
     "name": "stdout",
     "output_type": "stream",
     "text": [
      "+-------+-----+\n",
      "|  items| freq|\n",
      "+-------+-----+\n",
      "|[24852]|18726|\n",
      "|[13176]|15480|\n",
      "|[21137]|10894|\n",
      "|[21903]| 9784|\n",
      "|[47626]| 8135|\n",
      "|[47766]| 7409|\n",
      "|[47209]| 7293|\n",
      "|[16797]| 6494|\n",
      "|[26209]| 6033|\n",
      "|[27966]| 5546|\n",
      "|[39275]| 4966|\n",
      "|[27845]| 4908|\n",
      "|[30391]| 4613|\n",
      "|[45007]| 4589|\n",
      "|[22935]| 4290|\n",
      "|[24964]| 4158|\n",
      "| [4920]| 4059|\n",
      "|[46979]| 3868|\n",
      "|[40706]| 3823|\n",
      "| [8518]| 3818|\n",
      "+-------+-----+\n",
      "Number of frequent itemsets: 120\n"
     ]
    }
   ]
  },
  {
   "cell_type": "code",
   "execution_count": 54,
   "outputs": [
    {
     "name": "stdout",
     "output_type": "stream",
     "text": [
      "+----------+----------+----------+----+-------+\n",
      "|antecedent|consequent|confidence|lift|support|\n",
      "+----------+----------+----------+----+-------+\n",
      "+----------+----------+----------+----+-------+\n",
      "\n",
      "Number of association rules: 0\n"
     ]
    }
   ],
   "source": [
    "#Print out association rules and count\n",
    "model.associationRules.show()\n",
    "print(\"Number of association rules: \" + str(model.associationRules.count()))"
   ],
   "metadata": {
    "collapsed": false,
    "ExecuteTime": {
     "end_time": "2023-09-30T03:55:31.741218200Z",
     "start_time": "2023-09-30T03:55:31.609001300Z"
    }
   }
  },
  {
   "cell_type": "markdown",
   "metadata": {
    "id": "qT8Lwm1VAPoN"
   },
   "source": [
    "Now retrain the FP-growth model changing only\n",
    "```minsupport=0.001```\n",
    "and compute how many frequent itemsets and association rules were generated."
   ]
  },
  {
   "cell_type": "code",
   "metadata": {
    "id": "F4LTM9beApYn",
    "ExecuteTime": {
     "end_time": "2023-09-30T03:57:13.451633200Z",
     "start_time": "2023-09-30T03:57:10.527274600Z"
    }
   },
   "source": [
    "''' 5 lines of code in total expected but can differ based on your style. for sub-parts of the question, creating different cells of code would be recommended.'''\n",
    "# YOUR CODE HERE\n",
    "fpGrowth = FPGrowth(itemsCol=\"products\", minSupport=0.001, minConfidence=0.5)\n",
    "model = fpGrowth.fit(df)"
   ],
   "execution_count": 56,
   "outputs": []
  },
  {
   "cell_type": "code",
   "execution_count": 58,
   "outputs": [
    {
     "name": "stdout",
     "output_type": "stream",
     "text": [
      "+-------+-----+\n",
      "|  items| freq|\n",
      "+-------+-----+\n",
      "|[24852]|18726|\n",
      "|[13176]|15480|\n",
      "|[21137]|10894|\n",
      "|[21903]| 9784|\n",
      "|[47626]| 8135|\n",
      "|[47766]| 7409|\n",
      "|[47209]| 7293|\n",
      "|[16797]| 6494|\n",
      "|[26209]| 6033|\n",
      "|[27966]| 5546|\n",
      "|[39275]| 4966|\n",
      "|[27845]| 4908|\n",
      "|[30391]| 4613|\n",
      "|[45007]| 4589|\n",
      "|[22935]| 4290|\n",
      "|[24964]| 4158|\n",
      "| [4920]| 4059|\n",
      "|[46979]| 3868|\n",
      "|[40706]| 3823|\n",
      "| [8518]| 3818|\n",
      "+-------+-----+\n",
      "Number of frequent itemsets: 4444\n"
     ]
    }
   ],
   "source": [
    "model.freqItemsets.orderBy(\"freq\", ascending=False).show()\n",
    "print(\"Number of frequent itemsets: \" + str(model.freqItemsets.count()))"
   ],
   "metadata": {
    "collapsed": false,
    "ExecuteTime": {
     "end_time": "2023-09-30T03:58:07.537102700Z",
     "start_time": "2023-09-30T03:57:48.374373900Z"
    }
   }
  },
  {
   "cell_type": "code",
   "execution_count": 59,
   "outputs": [
    {
     "name": "stdout",
     "output_type": "stream",
     "text": [
      "+--------------------+----------+------------------+------------------+--------------------+\n",
      "|          antecedent|consequent|        confidence|              lift|             support|\n",
      "+--------------------+----------+------------------+------------------+--------------------+\n",
      "|       [4605, 16797]|   [24852]|0.5357142857142857|3.7536332219526702|0.001143214261216...|\n",
      "|[30391, 47209, 21...|   [13176]|          0.546875| 4.635330870478036|0.001066999977135...|\n",
      "|      [22825, 47209]|   [13176]|0.5170454545454546|4.3824946411792345|0.001387099970276...|\n",
      "|       [9839, 47209]|   [13176]|0.5048231511254019| 4.278897986822536|0.001196564260073623|\n",
      "|      [39928, 47209]|   [13176]|0.5459770114942529| 4.627719489738336|0.001448071397541327|\n",
      "|       [8174, 27966]|   [13176]|0.5412186379928315| 4.587387356098284|0.001150835689624...|\n",
      "|      [22035, 47209]|   [13176]|0.5314685314685315| 4.504745125675359|0.001158457118033...|\n",
      "|      [27966, 47209]|   [13176]| 0.521099116781158| 4.416853618458589|0.004046978484707604|\n",
      "|      [35951, 47209]|   [13176]|0.5141065830721003| 4.357584667849303|0.001249914258930...|\n",
      "|       [8174, 47209]|   [13176]|0.5283018867924528| 4.477904539027839|0.001493799967990...|\n",
      "|[27966, 47209, 21...|   [13176]|0.5984251968503937| 5.072272070642333|0.001737685677049...|\n",
      "+--------------------+----------+------------------+------------------+--------------------+\n",
      "\n",
      "Number of association rules: 11\n"
     ]
    }
   ],
   "source": [
    "model.associationRules.show()\n",
    "print(\"Number of association rules: \" + str(model.associationRules.count()))"
   ],
   "metadata": {
    "collapsed": false,
    "ExecuteTime": {
     "end_time": "2023-09-30T03:58:27.012432400Z",
     "start_time": "2023-09-30T03:58:07.535103800Z"
    }
   }
  },
  {
   "cell_type": "markdown",
   "metadata": {
    "id": "k9FOt5jRNFGt"
   },
   "source": [
    "To conclude, go to Gradescope and read the remaining questions. We will ask you to inspect the resulting dataframes, and report a few results."
   ]
  },
  {
   "cell_type": "code",
   "metadata": {
    "id": "wEqWxzTCNS87"
   },
   "source": [
    "# YOUR CODE HE"
   ],
   "execution_count": null,
   "outputs": []
  }
 ]
}
